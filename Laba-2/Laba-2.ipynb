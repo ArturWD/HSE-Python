{
 "cells": [
  {
   "cell_type": "code",
   "execution_count": 1,
   "metadata": {},
   "outputs": [
    {
     "name": "stdout",
     "output_type": "stream",
     "text": [
      "      did_buy  Recency  Frequency  MonetaryValue  AvgNonCashPay  \\\n",
      "0           0    160.0   8.142857     247.448276       2.965517   \n",
      "1           0    720.0   4.857143     271.657143       0.000000   \n",
      "2           1     15.0   4.714286     387.007353      22.757353   \n",
      "3           0    177.0  14.142857     260.110000      26.670000   \n",
      "4           1    115.0   3.000000     375.818182      19.681818   \n",
      "...       ...      ...        ...            ...            ...   \n",
      "9995        0    401.0   9.750000     432.450000       6.600000   \n",
      "9996        0    126.0  46.750000     251.638298      29.569149   \n",
      "9997        0     95.0  27.750000     309.089286      33.696429   \n",
      "9998        1      8.0  58.000000     128.678112      11.892704   \n",
      "9999        1     44.0   2.571429     350.736842       0.000000   \n",
      "\n",
      "      ActivationDate  Age  SubscribedEmail  SubscribedPush  Male  \n",
      "0             735599   24            False            True     0  \n",
      "1             735599   46             True            True     1  \n",
      "2             735599   27             True            True     0  \n",
      "3             735599   54             True            True     0  \n",
      "4             735599   48            False           False     1  \n",
      "...              ...  ...              ...             ...   ...  \n",
      "9995          735688   32            False            True     0  \n",
      "9996          735688   23            False           False     1  \n",
      "9997          735688   27            False            True     0  \n",
      "9998          735688   30             True            True     0  \n",
      "9999          735688   26            False           False     0  \n",
      "\n",
      "[10000 rows x 10 columns]\n"
     ]
    }
   ],
   "source": [
    "import pandas as pd\n",
    "from sklearn import preprocessing\n",
    "\n",
    "\n",
    "data = pd.read_csv(\"./Data/exported_data.csv\")\n",
    "#data = data.drop(columns=['SubscribedEmail', 'SubscribedPush'])\n",
    "\n",
    "print(data)"
   ]
  },
  {
   "cell_type": "code",
   "execution_count": null,
   "metadata": {},
   "outputs": [],
   "source": []
  }
 ],
 "metadata": {
  "kernelspec": {
   "display_name": "Python 3",
   "language": "python",
   "name": "python3"
  },
  "language_info": {
   "codemirror_mode": {
    "name": "ipython",
    "version": 3
   },
   "file_extension": ".py",
   "mimetype": "text/x-python",
   "name": "python",
   "nbconvert_exporter": "python",
   "pygments_lexer": "ipython3",
   "version": "3.7.4"
  }
 },
 "nbformat": 4,
 "nbformat_minor": 2
}
