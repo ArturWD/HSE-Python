{
 "cells": [
  {
   "cell_type": "code",
   "execution_count": 1,
   "metadata": {},
   "outputs": [
    {
     "name": "stdout",
     "output_type": "stream",
     "text": [
      "<class 'pandas.core.frame.DataFrame'>\n",
      "RangeIndex: 882222 entries, 0 to 882221\n",
      "Data columns (total 9 columns):\n",
      "CustomerID              882222 non-null int64\n",
      "Restaurant              882222 non-null int64\n",
      "RKDate                  882222 non-null datetime64[ns]\n",
      "RegionName              882222 non-null object\n",
      "BrandsNames             882222 non-null object\n",
      "DishCategoryName        881608 non-null object\n",
      "Quantity                882222 non-null int64\n",
      "SummBasic               882222 non-null float64\n",
      "SummAfterPointsUsage    882222 non-null float64\n",
      "dtypes: datetime64[ns](1), float64(2), int64(3), object(3)\n",
      "memory usage: 60.6+ MB\n",
      "None\n"
     ]
    }
   ],
   "source": [
    "# РЕПОЗИТОРИЙ НА GITHUB https://github.com/ArturWD/HSE-Python/\n",
    "\n",
    "\n",
    "\n",
    "import pandas as pd\n",
    "from datetime import datetime\n",
    "\n",
    "# Импорт доп данных\n",
    "extraData = pd.read_csv(\"./Data/CASC_Constant.csv\", sep=\",\")\n",
    "# Конвертация строки в дату\n",
    "extraData['ActivationDate'] = pd.to_datetime(extraData['ActivationDate'])\n",
    "\n",
    "# Импорт полных данных\n",
    "mainData = pd.read_csv(\"./Data/casc-resto.csv\", sep=\";\" , decimal=\",\")\n",
    "# Импорт сокращённых данных для тестирования\n",
    "#mainData = pd.read_csv(\"lab-1/casc-resto-small.csv\", sep=\",\")\n",
    "\n",
    "# Конвертирование строки в дату\n",
    "mainData['RKDate'] = pd.to_datetime(mainData['RKDate'])\n",
    "#mainData['SummAfterPointsUsage'] = mainData['SummAfterPointsUsage'].astype(float)\n",
    "#mainData['SummBasic'] = mainData['SummBasic'].astype(float)\n",
    "\n",
    "print(mainData.info())\n",
    "\n",
    "# Создать фиксированную дату\n",
    "fixed_date = datetime.strptime('2017-07-01', '%Y-%m-%d')"
   ]
  },
  {
   "cell_type": "code",
   "execution_count": 2,
   "metadata": {
    "scrolled": false
   },
   "outputs": [
    {
     "name": "stdout",
     "output_type": "stream",
     "text": [
      "      CustomerID  did_buy  Recency  Frequency  MonetaryValue  AvgNonCashPay\n",
      "0        2728046      0.0    160.0   8.142857     247.448276       2.965517\n",
      "1        2728088      0.0    720.0   4.857143     271.657143       0.000000\n",
      "2        2728089      1.0     15.0   4.714286     387.007353      22.757353\n",
      "3        2728095      0.0    177.0  14.142857     260.110000      26.670000\n",
      "4        2728107      1.0    115.0   3.000000     375.818182      19.681818\n",
      "...          ...      ...      ...        ...            ...            ...\n",
      "9995     2913103      0.0    401.0   9.750000     432.450000       6.600000\n",
      "9996     2913106      0.0    126.0  46.750000     251.638298      29.569149\n",
      "9997     2913114      0.0     95.0  27.750000     309.089286      33.696429\n",
      "9998     2913123      1.0      8.0  58.000000     128.678112      11.892704\n",
      "9999     2913132      1.0     44.0   2.571429     350.736842       0.000000\n",
      "\n",
      "[10000 rows x 6 columns]\n"
     ]
    }
   ],
   "source": [
    "from dateutil import relativedelta\n",
    "\n",
    "# Покупал или нет за период времени\n",
    "def isInDateRange(dates):\n",
    "    for date in dates:\n",
    "        if date <=  datetime.strptime('2017-12-31', '%Y-%m-%d')  and date >= fixed_date:\n",
    "            return 1\n",
    "    return 0\n",
    "\n",
    "# Как давно покупал в последний раз\n",
    "def getRecency(dates):\n",
    "    minDiff = 10000 \n",
    "    for date in dates:\n",
    "        if date <= fixed_date and (fixed_date - date).days < minDiff:\n",
    "            \n",
    "            minDiff = (fixed_date - date).days\n",
    "    return minDiff\n",
    "# Как часто покупал в месяц\n",
    "def getFrequency(dates):\n",
    "    datesBefore = list(filter(lambda d: d <= fixed_date, dates))\n",
    "    if len(datesBefore) == 0:\n",
    "        return 0\n",
    "    \n",
    "    months  = 1 + (relativedelta.relativedelta(fixed_date, min(datesBefore)) ).months\n",
    "       \n",
    "    return len(datesBefore) / months\n",
    "\n",
    "# \n",
    "def getMonetaryValue(group):\n",
    "    spent = 0\n",
    "    visitedTimes = 1\n",
    "    \n",
    "    for index, row in group.iterrows():\n",
    "        if (row['RKDate'] <= fixed_date):\n",
    "            visitedTimes+=1\n",
    "            spent+=row['SummAfterPointsUsage']\n",
    "        \n",
    "    return spent / visitedTimes\n",
    "\n",
    "# Новая переменная. Показывает, сколько в среднем было оплачено бонусами\n",
    "def getAvgNonCashPay(group):\n",
    "    nonCashSpent = 0\n",
    "    visitedTimes = 1\n",
    "    \n",
    "    for index, row in group.iterrows():\n",
    "        if (row['RKDate'] <= fixed_date):\n",
    "            visitedTimes+=1\n",
    "            nonCashSpent+= ( row['SummBasic'] - row['SummAfterPointsUsage'] )\n",
    "        \n",
    "    return nonCashSpent / visitedTimes\n",
    "\n",
    "\n",
    "# Агрегация данных\n",
    "def f(group):\n",
    "    d = {}\n",
    "    d['did_buy'] = isInDateRange(group['RKDate'])\n",
    "    d['Recency'] = getRecency(group['RKDate'])\n",
    "    d['Frequency'] = getFrequency(group['RKDate'])\n",
    "    d['MonetaryValue'] = getMonetaryValue(group)\n",
    "    d['AvgNonCashPay'] = getAvgNonCashPay(group)\n",
    "    return pd.Series(d, index=['did_buy', 'Recency', 'Frequency', 'MonetaryValue', 'AvgNonCashPay'])\n",
    "\n",
    "groupedData = mainData.groupby(\"CustomerID\").apply(f)\n",
    "aggregatedData= groupedData.reset_index()\n",
    "\n",
    "\n",
    "print(aggregatedData)"
   ]
  },
  {
   "cell_type": "code",
   "execution_count": 3,
   "metadata": {},
   "outputs": [
    {
     "name": "stdout",
     "output_type": "stream",
     "text": [
      "   did_buy  Recency  Frequency  MonetaryValue  AvgNonCashPay  ActivationDate  \\\n",
      "0        0    160.0   8.142857     247.448276       2.965517          735599   \n",
      "1        0    720.0   4.857143     271.657143       0.000000          735599   \n",
      "2        1     15.0   4.714286     387.007353      22.757353          735599   \n",
      "3        0    177.0  14.142857     260.110000      26.670000          735599   \n",
      "4        1    115.0   3.000000     375.818182      19.681818          735599   \n",
      "\n",
      "   Age  SubscribedEmail  SubscribedPush  Male  \n",
      "0   24            False            True     0  \n",
      "1   46             True            True     1  \n",
      "2   27             True            True     0  \n",
      "3   54             True            True     0  \n",
      "4   48            False           False     1  \n"
     ]
    }
   ],
   "source": [
    "import datetime as dt\n",
    "import numpy as np\n",
    "\n",
    "# слияние агрегированных данных с дополнительными данными\n",
    "dataSet = pd.merge(aggregatedData, extraData, left_on='CustomerID', right_on='CustomerId', how='inner') \n",
    "\n",
    "# удаление колонок с идентификаторами, т.к. они не нужны\n",
    "del dataSet['CustomerId']\n",
    "del dataSet['CustomerID']\n",
    "\n",
    "# замена строковых значений на бинарные\n",
    "sex = pd.get_dummies(dataSet['Sex'],drop_first=True)\n",
    "dataSet.drop(['Sex'],axis=1,inplace=True)\n",
    "dataSet = pd.concat([dataSet,sex],axis=1)\n",
    "# конвертация даты\n",
    "dataSet['ActivationDate'] = pd.to_datetime(dataSet['ActivationDate'])\n",
    "dataSet['ActivationDate']=dataSet['ActivationDate'].map(dt.datetime.toordinal)\n",
    "\n",
    "# восполнение пропущенных данных\n",
    "dataSet['Age'] = dataSet['Age'].fillna(dataSet['Age'].mean())\n",
    "cols = ['did_buy', 'Age']\n",
    "dataSet[cols] = dataSet[cols].applymap(np.int64)\n",
    "\n",
    "\n",
    "print(dataSet.head())\n"
   ]
  },
  {
   "cell_type": "code",
   "execution_count": 4,
   "metadata": {},
   "outputs": [
    {
     "name": "stderr",
     "output_type": "stream",
     "text": [
      "C:\\Users\\acer\\Anaconda3\\lib\\site-packages\\sklearn\\linear_model\\logistic.py:432: FutureWarning: Default solver will be changed to 'lbfgs' in 0.22. Specify a solver to silence this warning.\n",
      "  FutureWarning)\n"
     ]
    },
    {
     "data": {
      "text/plain": [
       "LogisticRegression(C=1.0, class_weight=None, dual=False, fit_intercept=True,\n",
       "                   intercept_scaling=1, l1_ratio=None, max_iter=100,\n",
       "                   multi_class='warn', n_jobs=None, penalty='l2',\n",
       "                   random_state=None, solver='warn', tol=0.0001, verbose=0,\n",
       "                   warm_start=False)"
      ]
     },
     "execution_count": 4,
     "metadata": {},
     "output_type": "execute_result"
    }
   ],
   "source": [
    "from sklearn import datasets\n",
    "from sklearn import metrics\n",
    "from sklearn.linear_model import LogisticRegression\n",
    "from sklearn.model_selection import train_test_split\n",
    "import numpy as np\n",
    "\n",
    "# разбиение выборки на тестовую и обучающую\n",
    "x_train, x_test, y_train, y_test = train_test_split(dataSet.drop('did_buy',axis=1), dataSet['did_buy'], test_size=0.2, random_state=2)\n",
    "\n",
    "# создание экземпляра класса логистической регресии и обучение\n",
    "logisticRegr = LogisticRegression()\n",
    "logisticRegr.fit(x_train, y_train)\n"
   ]
  },
  {
   "cell_type": "code",
   "execution_count": 6,
   "metadata": {},
   "outputs": [
    {
     "name": "stdout",
     "output_type": "stream",
     "text": [
      "[0 0 0 ... 0 1 0]\n",
      "0.655\n"
     ]
    }
   ],
   "source": [
    "# предсказание результатов по тестовой выборке\n",
    "print(logisticRegr.predict(x_test))\n",
    "\n",
    "# оценка качества предсказания\n",
    "score = logisticRegr.score(x_test, y_test)\n",
    "print(score)"
   ]
  },
  {
   "cell_type": "code",
   "execution_count": 7,
   "metadata": {},
   "outputs": [
    {
     "name": "stdout",
     "output_type": "stream",
     "text": [
      "              precision    recall  f1-score   support\n",
      "\n",
      "           0       0.73      0.82      0.77      1076\n",
      "           1       0.75      0.64      0.69       924\n",
      "\n",
      "    accuracy                           0.74      2000\n",
      "   macro avg       0.74      0.73      0.73      2000\n",
      "weighted avg       0.74      0.74      0.74      2000\n",
      "\n"
     ]
    }
   ],
   "source": [
    "from sklearn.metrics import classification_report\n",
    "from sklearn.neighbors import KNeighborsClassifier\n",
    "\n",
    "# оценка показателей precision и recall\n",
    "knn = KNeighborsClassifier(n_neighbors=8)\n",
    "knn.fit(x_train, y_train)\n",
    "\n",
    "y_pred = knn.predict(x_test)\n",
    "\n",
    "print(classification_report(y_test, y_pred))"
   ]
  },
  {
   "cell_type": "code",
   "execution_count": null,
   "metadata": {},
   "outputs": [],
   "source": []
  }
 ],
 "metadata": {
  "kernelspec": {
   "display_name": "Python 3",
   "language": "python",
   "name": "python3"
  },
  "language_info": {
   "codemirror_mode": {
    "name": "ipython",
    "version": 3
   },
   "file_extension": ".py",
   "mimetype": "text/x-python",
   "name": "python",
   "nbconvert_exporter": "python",
   "pygments_lexer": "ipython3",
   "version": "3.7.4"
  }
 },
 "nbformat": 4,
 "nbformat_minor": 2
}
