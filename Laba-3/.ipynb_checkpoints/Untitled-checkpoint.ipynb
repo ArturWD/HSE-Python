{
 "cells": [
  {
   "cell_type": "code",
   "execution_count": 16,
   "metadata": {},
   "outputs": [],
   "source": [
    "#GITHUB https://github.com/ArturWD/HSE-Python/tree/laba-2/Laba-3\n",
    "\n",
    "# CREATE SUBSET OF DATA\n",
    "import pandas as pd\n",
    "\n",
    "data = pd.read_csv(\"./train.csv\", low_memory=False)\n",
    "df = data.sample(frac=0.2)\n",
    "df_s = data.sample(frac=0.01)\n",
    "\n",
    "df.to_csv(r'20%_data.csv', index = False)\n",
    "df_s.to_csv(r'1%_data.csv', index = False)"
   ]
  },
  {
   "cell_type": "code",
   "execution_count": 30,
   "metadata": {},
   "outputs": [],
   "source": [
    "import os\n",
    "import json\n",
    "import numpy as np\n",
    "import pandas as pd\n",
    "from pandas.io.json import json_normalize\n",
    "\n",
    "def load_df(csv_path='./20%_data.csv', nrows=None):\n",
    "    # колонки с JSON\n",
    "    JSON_COLUMNS = ['device', 'geoNetwork', 'totals', 'trafficSource']\n",
    "    \n",
    "    df = pd.read_csv(csv_path, \n",
    "                     converters={column: json.loads for column in JSON_COLUMNS}, \n",
    "                     dtype={'fullVisitorId': 'str'}, # Important!!\n",
    "                     nrows=nrows)\n",
    "    # Сделать данные плоскими\n",
    "    for column in JSON_COLUMNS:\n",
    "        column_as_df = json_normalize(df[column])\n",
    "        column_as_df.columns = [f\"{column}.{subcolumn}\" for subcolumn in column_as_df.columns]\n",
    "        df = df.drop(column, axis=1).merge(column_as_df, right_index=True, left_index=True)\n",
    "    return df\n",
    "\n",
    "data = load_df(\"./20%_data.csv\")\n"
   ]
  },
  {
   "cell_type": "code",
   "execution_count": 31,
   "metadata": {},
   "outputs": [
    {
     "name": "stdout",
     "output_type": "stream",
     "text": [
      "0    0\n",
      "Name: totals.transactionRevenue, dtype: object\n",
      "<class 'pandas.core.frame.DataFrame'>\n",
      "RangeIndex: 180731 entries, 0 to 180730\n",
      "Data columns (total 31 columns):\n",
      "channelGrouping                                 180731 non-null object\n",
      "date                                            180731 non-null int64\n",
      "fullVisitorId                                   180731 non-null object\n",
      "sessionId                                       180731 non-null object\n",
      "visitId                                         180731 non-null int64\n",
      "visitNumber                                     180731 non-null int64\n",
      "visitStartTime                                  180731 non-null int64\n",
      "device.browser                                  180731 non-null object\n",
      "device.operatingSystem                          180731 non-null object\n",
      "device.isMobile                                 180731 non-null bool\n",
      "device.deviceCategory                           180731 non-null object\n",
      "geoNetwork.continent                            180731 non-null object\n",
      "geoNetwork.subContinent                         180731 non-null object\n",
      "geoNetwork.country                              180731 non-null object\n",
      "geoNetwork.region                               180731 non-null object\n",
      "geoNetwork.metro                                180731 non-null object\n",
      "geoNetwork.city                                 180731 non-null object\n",
      "geoNetwork.networkDomain                        180731 non-null object\n",
      "totals.hits                                     180731 non-null object\n",
      "totals.pageviews                                180731 non-null object\n",
      "totals.transactionRevenue                       180731 non-null object\n",
      "trafficSource.referralPath                      66457 non-null object\n",
      "trafficSource.campaign                          180731 non-null object\n",
      "trafficSource.source                            180731 non-null object\n",
      "trafficSource.medium                            180731 non-null object\n",
      "trafficSource.keyword                           80187 non-null object\n",
      "trafficSource.adwordsClickInfo.page             4324 non-null object\n",
      "trafficSource.adwordsClickInfo.slot             4324 non-null object\n",
      "trafficSource.adwordsClickInfo.gclId            4345 non-null object\n",
      "trafficSource.adwordsClickInfo.adNetworkType    4324 non-null object\n",
      "trafficSource.adContent                         2199 non-null object\n",
      "dtypes: bool(1), int64(4), object(26)\n",
      "memory usage: 41.5+ MB\n",
      "None\n"
     ]
    }
   ],
   "source": [
    "# убрать колонки, в которых только одно значение , например \"not available in demo dataset\"\n",
    "\n",
    "drop_cols = [c for c in data.columns if data[c].nunique()==1]\n",
    "data = data.drop(drop_cols,axis=1)\n",
    "\n",
    "data['totals.transactionRevenue'] = data['totals.transactionRevenue'].fillna(0)\n",
    "data['totals.pageviews'] = data['totals.pageviews'].fillna(0)\n",
    "print(data[:1]['totals.transactionRevenue'])\n",
    "print(data.info())"
   ]
  },
  {
   "cell_type": "code",
   "execution_count": 32,
   "metadata": {},
   "outputs": [
    {
     "name": "stdout",
     "output_type": "stream",
     "text": [
      "                                               Total   Percent\n",
      "trafficSource.adContent                       178532  0.987833\n",
      "trafficSource.adwordsClickInfo.adNetworkType  176407  0.976075\n",
      "trafficSource.adwordsClickInfo.slot           176407  0.976075\n",
      "trafficSource.adwordsClickInfo.page           176407  0.976075\n",
      "trafficSource.adwordsClickInfo.gclId          176386  0.975959\n",
      "trafficSource.referralPath                    114274  0.632288\n",
      "trafficSource.keyword                         100544  0.556319\n",
      "date                                               0  0.000000\n",
      "fullVisitorId                                      0  0.000000\n",
      "sessionId                                          0  0.000000\n",
      "geoNetwork.continent                               0  0.000000\n",
      "visitId                                            0  0.000000\n",
      "visitNumber                                        0  0.000000\n",
      "visitStartTime                                     0  0.000000\n",
      "device.browser                                     0  0.000000\n",
      "device.operatingSystem                             0  0.000000\n",
      "device.isMobile                                    0  0.000000\n",
      "device.deviceCategory                              0  0.000000\n",
      "geoNetwork.metro                                   0  0.000000\n",
      "geoNetwork.subContinent                            0  0.000000\n",
      "                          Total  Percent\n",
      "trafficSource.medium          0      0.0\n",
      "trafficSource.source          0      0.0\n",
      "date                          0      0.0\n",
      "fullVisitorId                 0      0.0\n",
      "sessionId                     0      0.0\n",
      "visitId                       0      0.0\n",
      "visitNumber                   0      0.0\n",
      "visitStartTime                0      0.0\n",
      "device.browser                0      0.0\n",
      "device.operatingSystem        0      0.0\n",
      "device.isMobile               0      0.0\n",
      "device.deviceCategory         0      0.0\n",
      "geoNetwork.continent          0      0.0\n",
      "geoNetwork.subContinent       0      0.0\n",
      "geoNetwork.country            0      0.0\n",
      "geoNetwork.region             0      0.0\n",
      "geoNetwork.metro              0      0.0\n",
      "geoNetwork.city               0      0.0\n",
      "geoNetwork.networkDomain      0      0.0\n",
      "totals.hits                   0      0.0\n"
     ]
    }
   ],
   "source": [
    "# количество null значений\n",
    "total = data.isnull().sum().sort_values(ascending=False)\n",
    "# процент null значений\n",
    "percent = (data.isnull().sum()/data.isnull().count()).sort_values(ascending=False)\n",
    "missing_data = pd.concat([total, percent], axis=1, keys=['Total', 'Percent'])\n",
    "print(missing_data.head(20))\n",
    "\n",
    "# удалить все фичи, у которых процент пропущенных значений больше 50\n",
    "drop_fixed = ['trafficSource.adContent', 'trafficSource.adwordsClickInfo.slot', 'trafficSource.adwordsClickInfo.page', 'trafficSource.adwordsClickInfo.gclId', 'trafficSource.referralPath', 'trafficSource.keyword']\n",
    "drop_cols = [c for c in data.columns if data[c].isnull().sum()/data[c].isnull().count() > 0.5]\n",
    "data = data.drop(drop_cols,axis=1)\n",
    "data['totals.hits'] = data['totals.hits'].astype(int)\n",
    "data['totals.pageviews'] = data['totals.pageviews'].astype(int)\n",
    "data['totals.transactionRevenue'] = data['totals.transactionRevenue'].astype(float)\n",
    "\n",
    "\n",
    "# количество null значений\n",
    "total = data.isnull().sum().sort_values(ascending=False)\n",
    "# процент null значений\n",
    "percent = (data.isnull().sum()/data.isnull().count()).sort_values(ascending=False)\n",
    "missing_data = pd.concat([total, percent], axis=1, keys=['Total', 'Percent'])\n",
    "print(missing_data.head(20))"
   ]
  },
  {
   "cell_type": "code",
   "execution_count": 33,
   "metadata": {},
   "outputs": [
    {
     "data": {
      "image/png": "[encoded data removed]",
      "text/plain": [
       "<Figure size 576x432 with 1 Axes>"
      ]
     },
     "metadata": {
      "needs_background": "light"
     },
     "output_type": "display_data"
    },
    {
     "name": "stdout",
     "output_type": "stream",
     "text": [
      "Число ненулевых значений :  2264  and ratio is :  0.012526904626212438\n",
      "Число ненулевых уникальных клиентов :  2160 and the ratio is :  0.01300319661916888\n"
     ]
    }
   ],
   "source": [
    "import matplotlib.pyplot as plt\n",
    "# АНАЛИЗ ЦЕЛЕВОЙ ПЕРЕМЕННОЙ\n",
    "\n",
    "data[\"totals.transactionRevenue\"] = data[\"totals.transactionRevenue\"].astype('float')\n",
    "gdf = data.groupby(\"fullVisitorId\")[\"totals.transactionRevenue\"].sum().reset_index()\n",
    "\n",
    "plt.figure(figsize=(8,6))\n",
    "plt.scatter(range(gdf.shape[0]), np.sort(np.log1p(gdf[\"totals.transactionRevenue\"].values)))\n",
    "plt.xlabel('index', fontsize=12)\n",
    "plt.ylabel('TransactionRevenue', fontsize=12)\n",
    "plt.show()\n",
    "\n",
    "nzi = (data[\"totals.transactionRevenue\"] > 0).sum()\n",
    "nzr = (gdf[\"totals.transactionRevenue\"]>0).sum()\n",
    "print(\"Число ненулевых значений : \", nzi, \" and ratio is : \", nzi / data.shape[0])\n",
    "print(\"Число ненулевых уникальных клиентов : \", nzr, \"and the ratio is : \", nzr / gdf.shape[0])"
   ]
  },
  {
   "cell_type": "code",
   "execution_count": 34,
   "metadata": {},
   "outputs": [],
   "source": [
    "# Агрегация данных\n",
    "from math import log1p\n",
    "import pandas as pd\n",
    "\n",
    "\n",
    "\n",
    "def getBoughtPercentage(totalRevenue):\n",
    "    notZero = totalRevenue.where(lambda x : x > 0).dropna().count()\n",
    "        \n",
    "    return notZero / len(totalRevenue)\n",
    "\n",
    "def getMobilePercentage(mobile):\n",
    "    mobiles = mobile.where(lambda x : x != 'false').dropna().count()\n",
    "        \n",
    "    return mobiles / len(mobile)\n",
    "\n",
    "def getDeviceSpread(diveceOS):\n",
    "    return diveceOS.nunique()\n",
    "\n",
    "def getVisitTime(visitTimes):\n",
    "    threshold = 0.6\n",
    "    weekends = 0\n",
    "    evenings = 0\n",
    "    dates = pd.to_datetime(visitTimes, unit='s')\n",
    "    for visitDate in dates: \n",
    "        \n",
    "        dayOfWeek = visitDate.weekday()\n",
    "        hour = visitDate.hour\n",
    "        if dayOfWeek > 3:\n",
    "            weekends = weekends + 1\n",
    "        if hour > 16:\n",
    "            evenings = evenings + 1 \n",
    "    isMostlyEvening = 1\n",
    "    isMostlyWeekend = 1\n",
    "    \n",
    "    if evenings / len(visitTimes) < threshold:\n",
    "        isMostlyEvening = 0\n",
    "    \n",
    "    if weekends / len(visitTimes) < threshold:\n",
    "        isMostlyWeekend = 0\n",
    "    \n",
    "    return [isMostlyEvening, isMostlyWeekend]\n",
    "\n",
    "def getPromotional(mediums):\n",
    "    prmt = 0\n",
    "    for medium in mediums:\n",
    "        if medium == 'cpm' or medium == 'cpc':\n",
    "            prmt = prmt + 1\n",
    "    \n",
    "    promoted =  prmt / len(mediums)\n",
    "    if promoted >= 0.6:\n",
    "        return 1\n",
    "    else:\n",
    "        return 0\n",
    "\n",
    "\n",
    "def f(group):\n",
    "    d = {}\n",
    "    d['continent'] = group['geoNetwork.continent'].value_counts()[:1].index.tolist()[0]\n",
    "    d['subContinent'] = group['geoNetwork.subContinent'].value_counts()[:1].index.tolist()[0]\n",
    "    d['country'] = group['geoNetwork.country'].value_counts()[:1].index.tolist()[0]\n",
    "    d['avghits'] = group['totals.hits'].mean() \n",
    "    d['revenue'] = log1p(group['totals.transactionRevenue'].sum() )\n",
    "    d['pageviews'] = group['totals.pageviews'].mean()\n",
    "    \n",
    "    # расчётные\n",
    "    d['boughtPercentage'] = getBoughtPercentage(group['totals.transactionRevenue'])\n",
    "    d['mobilePercentage'] = getMobilePercentage(group['device.isMobile'])\n",
    "    d['deviceSpread'] = getDeviceSpread(group['device.operatingSystem'])\n",
    "    [d['visitEvening'], d['visitWeekend'] ] = getVisitTime(group['visitStartTime'])\n",
    "    d['isPromotional'] = getPromotional(group['trafficSource.medium'])\n",
    "    \n",
    "    return pd.Series(d, index=['continent', 'subContinent', 'country', 'avghits', 'revenue', 'pageviews', 'boughtPercentage', 'mobilePercentage', 'deviceSpread', 'visitEvening', 'visitWeekend', 'isPromotional'])\n",
    "\n",
    "groupedData = data.groupby(\"fullVisitorId\").apply(f)\n",
    "aggregatedData= groupedData.reset_index()\n",
    "\n",
    "aggregatedData.to_csv(r'aggregated_data.csv', index = False)"
   ]
  },
  {
   "cell_type": "code",
   "execution_count": 3,
   "metadata": {},
   "outputs": [],
   "source": [
    "import pandas as pd\n",
    "from sklearn.preprocessing import MinMaxScaler\n",
    "from sklearn.model_selection import train_test_split\n",
    "from sklearn.metrics import classification_report, confusion_matrix\n",
    "from sklearn.ensemble import GradientBoostingRegressor\n",
    "\n",
    "aggregatedData = pd.read_csv(\"./agg_data.csv\", low_memory=False)\n",
    "\n",
    "aggregatedData['continent'] = pd.Categorical(aggregatedData['continent'])\n",
    "aggregatedData['subContinent'] = pd.Categorical(aggregatedData['subContinent'])\n",
    "aggregatedData['country'] = pd.Categorical(aggregatedData['country'])\n",
    "\n",
    "aggregatedData['continent'] = aggregatedData['continent'].cat.codes\n",
    "aggregatedData['subContinent'] = aggregatedData['subContinent'].cat.codes\n",
    "aggregatedData['country'] = aggregatedData['country'].cat.codes\n",
    "\n",
    "aggregatedData.drop(labels=\"fullVisitorId\", axis=1, inplace=True)\n",
    "aggData = aggregatedData\n",
    "\n",
    "Y = aggData[\"revenue\"]\n",
    "X = aggData.drop(\"revenue\", axis=1)\n",
    "\n",
    "\n",
    "scaler = MinMaxScaler()\n",
    "X = scaler.fit_transform(X)\n",
    "\n",
    "\n",
    "state = 12  \n",
    "test_size = 0.20  \n",
    "  \n",
    "X_train, X_val, y_train, y_val = train_test_split(X, Y,  \n",
    "    test_size=test_size, random_state=state)\n",
    "\n",
    "   \n",
    "\n"
   ]
  },
  {
   "cell_type": "code",
   "execution_count": 22,
   "metadata": {},
   "outputs": [
    {
     "name": "stdout",
     "output_type": "stream",
     "text": [
      "0.9965135675343288\n",
      "0.9958037898861445\n"
     ]
    },
    {
     "data": {
      "image/png": "[encoded data removed]",
      "text/plain": [
       "<Figure size 432x288 with 1 Axes>"
      ]
     },
     "metadata": {},
     "output_type": "display_data"
    }
   ],
   "source": [
    "from sklearn.ensemble import GradientBoostingRegressor\n",
    "from sklearn.model_selection import KFold\n",
    "import seaborn as sns\n",
    "import pandas as pd\n",
    "import numpy as np\n",
    "regGB = GradientBoostingRegressor(random_state=0)\n",
    "regGB.fit(X_train, y_train)\n",
    "GBpredictions = regGB.predict(X_val)\n",
    "print(regGB.score(X_val, y_val))\n",
    "\n",
    "scores = []\n",
    "model = GradientBoostingRegressor()\n",
    "cv = KFold(n_splits=5, random_state=42, shuffle=False)\n",
    "for train_index, test_index in cv.split(X):\n",
    "    X_train, X_test, y_train, y_test = X[train_index], X[test_index], Y[train_index], Y[test_index]\n",
    "    model.fit(X_train, y_train)\n",
    "    scores.append(model.score(X_test, y_test))\n",
    "print(np.mean(scores))\n",
    "\n",
    "disp = []\n",
    "\n",
    "for i in range(0, 20):\n",
    "    sample = pd.DataFrame(X_val).sample(frac=0.05)\n",
    "    pred = regGB.predict(sample)\n",
    "    d = np.var(pred, dtype=np.float64)\n",
    "    disp.append(d)\n",
    "    \n",
    "sns.set(style=\"whitegrid\")\n",
    "ax = sns.boxplot(x=disp)"
   ]
  },
  {
   "cell_type": "code",
   "execution_count": 23,
   "metadata": {},
   "outputs": [
    {
     "name": "stderr",
     "output_type": "stream",
     "text": [
      "C:\\Users\\acer\\Anaconda3\\lib\\site-packages\\sklearn\\ensemble\\forest.py:245: FutureWarning: The default value of n_estimators will change from 10 in version 0.20 to 100 in 0.22.\n",
      "  \"10 in version 0.20 to 100 in 0.22.\", FutureWarning)\n"
     ]
    },
    {
     "name": "stdout",
     "output_type": "stream",
     "text": [
      "0.9982215160880981\n"
     ]
    },
    {
     "name": "stderr",
     "output_type": "stream",
     "text": [
      "C:\\Users\\acer\\Anaconda3\\lib\\site-packages\\sklearn\\ensemble\\forest.py:245: FutureWarning: The default value of n_estimators will change from 10 in version 0.20 to 100 in 0.22.\n",
      "  \"10 in version 0.20 to 100 in 0.22.\", FutureWarning)\n"
     ]
    },
    {
     "name": "stdout",
     "output_type": "stream",
     "text": [
      "0.9945923484628523\n"
     ]
    },
    {
     "data": {
      "image/png": "[encoded data removed]",
      "text/plain": [
       "<Figure size 432x288 with 1 Axes>"
      ]
     },
     "metadata": {},
     "output_type": "display_data"
    }
   ],
   "source": [
    "from sklearn.ensemble import RandomForestRegressor\n",
    "from sklearn.model_selection import KFold\n",
    "import numpy as np\n",
    "import seaborn as sns\n",
    "import pandas as pd\n",
    "\n",
    "regRF = RandomForestRegressor(random_state=0)\n",
    "regRF.fit(X_train, y_train)\n",
    "RFpredictions = regRF.predict(X_val)\n",
    "print(regRF.score(X_val, y_val))\n",
    "\n",
    "scores = []\n",
    "model = RandomForestRegressor()\n",
    "cv = KFold(n_splits=5, random_state=42, shuffle=False)\n",
    "for train_index, test_index in cv.split(X):\n",
    "    X_train, X_test, y_train, y_test = X[train_index], X[test_index], Y[train_index], Y[test_index]\n",
    "    model.fit(X_train, y_train)\n",
    "    scores.append(model.score(X_test, y_test))\n",
    "print(np.mean(scores))\n",
    "\n",
    "\n",
    "disp = []\n",
    "\n",
    "for i in range(0, 20):\n",
    "    sample = pd.DataFrame(X_val).sample(frac=0.05)\n",
    "    pred = regRF.predict(sample)\n",
    "    d = np.var(pred, dtype=np.float64)\n",
    "    disp.append(d)\n",
    "    \n",
    "sns.set(style=\"whitegrid\")\n",
    "ax = sns.boxplot(x=disp)"
   ]
  },
  {
   "cell_type": "code",
   "execution_count": 25,
   "metadata": {},
   "outputs": [
    {
     "name": "stderr",
     "output_type": "stream",
     "text": [
      "C:\\Users\\acer\\Anaconda3\\lib\\site-packages\\sklearn\\svm\\base.py:193: FutureWarning: The default value of gamma will change from 'auto' to 'scale' in version 0.22 to account better for unscaled features. Set gamma explicitly to 'auto' or 'scale' to avoid this warning.\n",
      "  \"avoid this warning.\", FutureWarning)\n"
     ]
    },
    {
     "name": "stdout",
     "output_type": "stream",
     "text": [
      "0.9005951446290182\n"
     ]
    },
    {
     "name": "stderr",
     "output_type": "stream",
     "text": [
      "C:\\Users\\acer\\Anaconda3\\lib\\site-packages\\sklearn\\svm\\base.py:193: FutureWarning: The default value of gamma will change from 'auto' to 'scale' in version 0.22 to account better for unscaled features. Set gamma explicitly to 'auto' or 'scale' to avoid this warning.\n",
      "  \"avoid this warning.\", FutureWarning)\n",
      "C:\\Users\\acer\\Anaconda3\\lib\\site-packages\\sklearn\\svm\\base.py:193: FutureWarning: The default value of gamma will change from 'auto' to 'scale' in version 0.22 to account better for unscaled features. Set gamma explicitly to 'auto' or 'scale' to avoid this warning.\n",
      "  \"avoid this warning.\", FutureWarning)\n",
      "C:\\Users\\acer\\Anaconda3\\lib\\site-packages\\sklearn\\svm\\base.py:193: FutureWarning: The default value of gamma will change from 'auto' to 'scale' in version 0.22 to account better for unscaled features. Set gamma explicitly to 'auto' or 'scale' to avoid this warning.\n",
      "  \"avoid this warning.\", FutureWarning)\n",
      "C:\\Users\\acer\\Anaconda3\\lib\\site-packages\\sklearn\\svm\\base.py:193: FutureWarning: The default value of gamma will change from 'auto' to 'scale' in version 0.22 to account better for unscaled features. Set gamma explicitly to 'auto' or 'scale' to avoid this warning.\n",
      "  \"avoid this warning.\", FutureWarning)\n",
      "C:\\Users\\acer\\Anaconda3\\lib\\site-packages\\sklearn\\svm\\base.py:193: FutureWarning: The default value of gamma will change from 'auto' to 'scale' in version 0.22 to account better for unscaled features. Set gamma explicitly to 'auto' or 'scale' to avoid this warning.\n",
      "  \"avoid this warning.\", FutureWarning)\n"
     ]
    },
    {
     "name": "stdout",
     "output_type": "stream",
     "text": [
      "0.8921309537971546\n"
     ]
    },
    {
     "data": {
      "image/png": "[encoded data removed]",
      "text/plain": [
       "<Figure size 432x288 with 1 Axes>"
      ]
     },
     "metadata": {},
     "output_type": "display_data"
    }
   ],
   "source": [
    "from sklearn import svm\n",
    "from sklearn.model_selection import KFold\n",
    "import numpy as np\n",
    "import pandas as pd\n",
    "import seaborn as sns\n",
    "\n",
    "regSVM = svm.SVR()\n",
    "regSVM.fit(X_train, y_train)\n",
    "SVMpredictions = regSVM.predict(X_val)\n",
    "print(regSVM.score(X_val, y_val))\n",
    "\n",
    "scores = []\n",
    "model = svm.SVR()\n",
    "cv = KFold(n_splits=5, random_state=42, shuffle=False)\n",
    "for train_index, test_index in cv.split(X):\n",
    "    X_train, X_test, y_train, y_test = X[train_index], X[test_index], Y[train_index], Y[test_index]\n",
    "    model.fit(X_train, y_train)\n",
    "    scores.append(model.score(X_test, y_test))\n",
    "print(np.mean(scores))\n",
    "\n",
    "\n",
    "disp = []\n",
    "\n",
    "for i in range(0, 20):\n",
    "    sample = pd.DataFrame(X_val).sample(frac=0.05)\n",
    "    pred = regSVM.predict(sample)\n",
    "    d = np.var(pred, dtype=np.float64)\n",
    "    disp.append(d)\n",
    "    \n",
    "sns.set(style=\"whitegrid\")\n",
    "ax = sns.boxplot(x=disp)"
   ]
  },
  {
   "cell_type": "code",
   "execution_count": 24,
   "metadata": {},
   "outputs": [
    {
     "name": "stdout",
     "output_type": "stream",
     "text": [
      "0.8962733997890282\n",
      "0.8886748902174638\n"
     ]
    },
    {
     "data": {
      "image/png": "[encoded data removed]",
      "text/plain": [
       "<Figure size 432x288 with 1 Axes>"
      ]
     },
     "metadata": {},
     "output_type": "display_data"
    }
   ],
   "source": [
    "import numpy as np\n",
    "from sklearn.linear_model import LinearRegression\n",
    "from sklearn.model_selection import KFold\n",
    "import numpy as np\n",
    "import seaborn as sns\n",
    "import pandas as pd\n",
    "\n",
    "regLR = LinearRegression().fit(X_train, y_train)\n",
    "LRpredictions = regLR.predict(X_val)\n",
    "print(regLR.score(X_val, y_val))\n",
    "\n",
    "scores = []\n",
    "model = LinearRegression()\n",
    "cv = KFold(n_splits=5, random_state=42, shuffle=False)\n",
    "for train_index, test_index in cv.split(X):\n",
    "    X_train, X_test, y_train, y_test = X[train_index], X[test_index], Y[train_index], Y[test_index]\n",
    "    model.fit(X_train, y_train)\n",
    "    scores.append(model.score(X_test, y_test))\n",
    "print(np.mean(scores))\n",
    "\n",
    "\n",
    "disp = []\n",
    "\n",
    "for i in range(0, 20):\n",
    "    sample = pd.DataFrame(X_val).sample(frac=0.05)\n",
    "    pred = regSVM.predict(sample)\n",
    "    d = np.var(pred, dtype=np.float64)\n",
    "    disp.append(d)\n",
    "    \n",
    "sns.set(style=\"whitegrid\")\n",
    "ax = sns.boxplot(x=disp)"
   ]
  },
  {
   "cell_type": "code",
   "execution_count": null,
   "metadata": {},
   "outputs": [],
   "source": []
  }
 ],
 "metadata": {
  "kernelspec": {
   "display_name": "Python 3",
   "language": "python",
   "name": "python3"
  },
  "language_info": {
   "codemirror_mode": {
    "name": "ipython",
    "version": 3
   },
   "file_extension": ".py",
   "mimetype": "text/x-python",
   "name": "python",
   "nbconvert_exporter": "python",
   "pygments_lexer": "ipython3",
   "version": "3.7.4"
  }
 },
 "nbformat": 4,
 "nbformat_minor": 2
}
